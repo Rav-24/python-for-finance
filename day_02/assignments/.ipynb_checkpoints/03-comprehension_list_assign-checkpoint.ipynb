{
 "cells": [
  {
   "cell_type": "markdown",
   "id": "ae7485c2",
   "metadata": {},
   "source": [
    "# Python List Comprehension Exercises"
   ]
  },
  {
   "cell_type": "markdown",
   "id": "778936de",
   "metadata": {},
   "source": [
    "## Exercise 1\n",
    "Create an identical list called `l_2` from the `l_1` list using list comprehension.\n",
    "```python\n",
    "l_1 = [1, 2, 3, 4, 5, 6]\n",
    "```"
   ]
  },
  {
   "cell_type": "code",
   "execution_count": null,
   "id": "d8bad8c4",
   "metadata": {},
   "outputs": [],
   "source": [
    "l_1 = [1, 2, 3, 4, 5, 6]\n",
    "\n",
    "# Write your code here\n",
    "\n",
    "print(l_2)"
   ]
  },
  {
   "cell_type": "markdown",
   "id": "f5a7cd85",
   "metadata": {},
   "source": [
    "## Exercise 2\n",
    "Create a list called `l_3` from the elements of a range from 200 to 3100 with steps of 115, using list comprehension\n",
    "\n",
    "*Expected output**\n",
    "```python\n",
    "print(l_3)\n",
    ">> [200, 315, 430, 545, 660, 775, 890, 1005, 1120, 1235, 1350, 1465, 1580, 1695, 1810, 1925, 2040, 2155, 2270, 2385, 2500, 2615, 2730, 2845, 2960, 3075]\n",
    "```"
   ]
  },
  {
   "cell_type": "code",
   "execution_count": 3,
   "id": "636decfa",
   "metadata": {},
   "outputs": [],
   "source": [
    "# Write your code here\n"
   ]
  },
  {
   "cell_type": "markdown",
   "id": "8b8c185f",
   "metadata": {},
   "source": [
    "## Exercise 3\n",
    "Create a new list called `l_4` which contains elements of list `l_3` but subtracted 200 from its items, using list comprehension\n",
    "\n",
    "**Expected output**\n",
    "```python\n",
    "print(l_4)\n",
    ">> [0, 115, 230, 345, 460, 575, 690, 805, 920, 1035, 1150, 1265, 1380, 1495, 1610, 1725, 1840, 1955, 2070, 2185, 2300, 2415, 2530, 2645, 2760, 2875]\n",
    "```"
   ]
  },
  {
   "cell_type": "code",
   "execution_count": 10,
   "id": "be9820ec",
   "metadata": {},
   "outputs": [],
   "source": [
    "# Write your code here\n"
   ]
  },
  {
   "cell_type": "markdown",
   "id": "3133971d",
   "metadata": {},
   "source": [
    "## Exercise 4\n",
    "Create a new list called `l_5` which contains the squared of the first 10 elements, using list comprehension\n",
    "\n",
    "**Expected output**\n",
    "```python\n",
    "print(l_4)\n",
    ">> [0, 115, 230, 345, 460, 575, 690, 805, 920, 1035, 1150, 1265, 1380, 1495, 1610, 1725, 1840, 1955, 2070, 2185, 2300, 2415, 2530, 2645, 2760, 2875]\n",
    "```"
   ]
  },
  {
   "cell_type": "code",
   "execution_count": 10,
   "id": "4777bbb5",
   "metadata": {},
   "outputs": [],
   "source": [
    "# Write your code here\n"
   ]
  }
 ],
 "metadata": {
  "kernelspec": {
   "display_name": "Python 3 (ipykernel)",
   "language": "python",
   "name": "python3"
  },
  "language_info": {
   "codemirror_mode": {
    "name": "ipython",
    "version": 3
   },
   "file_extension": ".py",
   "mimetype": "text/x-python",
   "name": "python",
   "nbconvert_exporter": "python",
   "pygments_lexer": "ipython3",
   "version": "3.8.10"
  }
 },
 "nbformat": 4,
 "nbformat_minor": 5
}
