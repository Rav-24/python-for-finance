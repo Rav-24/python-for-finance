{
 "cells": [
  {
   "cell_type": "markdown",
   "metadata": {},
   "source": [
    "## Market-Based Valuation\n",
    "\n",
    "- An at a prespecified price (strike) at a predetermined date (European option) or over a determined\n",
    "    period of time (American option). Some options are settled in actual stocks; most options, like\n",
    "    those on an index, are settled in cash. People or institutions selling options are called option\n",
    "    writers. Those buying options are called option holders.\n",
    "\n",
    "- For a European call option on an index with strike 8,000 and index level of 8,200\n",
    "    at maturity, the option holder receives the difference 8,200 − 8,000 = 200 (e.g. in EUR or\n",
    "    USD) from the option writer. If the index level is below the strike, say at 7,800, the option\n",
    "    expires worthless and the writer does not have to pay anything. We can formalize this via\n",
    "    the so-called inner value (or intrinsic value or payoff)—from the holder's viewpoint—of\n",
    "    the option:\n",
    "    \n",
    "    $ h_T(S, K) = max[S_T − K, 0]$ \n",
    "    \n",
    "    - where T is the maturity date of the option, $S_T$ the index level at this date and K represents the\n",
    "        strike price. We can now use Python for the first time and plot this inner value function.\n",
    "        \n",
    "- Desired output:\n",
    "    - the Inner value of a European call option on a stock index with strike\n",
    "        of 8,000 dependent on the index level at maturity\n",
    "        \n",
    "![02_mbv/call_inner_values.pdf](../data/02_mbv/call_inner_values.pdf)"
   ]
  },
  {
   "cell_type": "code",
   "execution_count": null,
   "metadata": {},
   "outputs": [],
   "source": []
  },
  {
   "cell_type": "code",
   "execution_count": null,
   "metadata": {},
   "outputs": [],
   "source": []
  }
 ],
 "metadata": {
  "hide_input": false,
  "kernelspec": {
   "display_name": "Python 3",
   "language": "python",
   "name": "python3"
  },
  "language_info": {
   "codemirror_mode": {
    "name": "ipython",
    "version": 3
   },
   "file_extension": ".py",
   "mimetype": "text/x-python",
   "name": "python",
   "nbconvert_exporter": "python",
   "pygments_lexer": "ipython3",
   "version": "3.8.5"
  }
 },
 "nbformat": 4,
 "nbformat_minor": 4
}
