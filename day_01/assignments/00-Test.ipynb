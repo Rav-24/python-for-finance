{
 "cells": [
  {
   "cell_type": "markdown",
   "metadata": {},
   "source": [
    "# Assessment test "
   ]
  },
  {
   "cell_type": "markdown",
   "metadata": {},
   "source": [
    "## Exercise 1: \n",
    "\n",
    "What is a correct syntax to output \"Hello World\" in Python?\n",
    "\n",
    "1. print(\"Hello World\")\n",
    "2. echo(\"Hello World\")\n",
    "3. p(\"Hello World\")\n",
    "4. printf(\"Hello World\")\n",
    "\n",
    "**You answer here**\n",
    "\n",
    "1."
   ]
  },
  {
   "cell_type": "code",
   "execution_count": 2,
   "metadata": {},
   "outputs": [
    {
     "name": "stdout",
     "output_type": "stream",
     "text": [
      "hi\n"
     ]
    }
   ],
   "source": [
    "print('Hello World')"
   ]
  },
  {
   "cell_type": "markdown",
   "metadata": {},
   "source": [
    "## Exercise 2:\n",
    "\n",
    "Which one is NOT a legal variable name?\n",
    "\n",
    "1. Myvar\n",
    "2. _myvar\n",
    "3. my-var\n",
    "4. my_var\n",
    "\n",
    "**Your answer here**\n",
    "\n",
    "3."
   ]
  },
  {
   "cell_type": "markdown",
   "metadata": {},
   "source": [
    "## Exercise 3: range()\n",
    "\n",
    "Use range() to print all the even numbers from 0 to 10."
   ]
  },
  {
   "cell_type": "code",
   "execution_count": 39,
   "metadata": {},
   "outputs": [
    {
     "name": "stdout",
     "output_type": "stream",
     "text": [
      "0\n",
      "2\n",
      "4\n",
      "6\n",
      "8\n"
     ]
    }
   ],
   "source": [
    "# Your code here\n",
    "\n",
    "for i in range(0, 10):\n",
    "    if i%2 == 0:\n",
    "        print(i)\n"
   ]
  },
  {
   "cell_type": "markdown",
   "metadata": {},
   "source": [
    "## Exercise 4: list\n",
    "\n",
    "\n",
    "```python\n",
    ">>> arr = [\"Car\", \"Fruit\", 1]\n",
    "```\n",
    "\n",
    "1. Add element at the top of the list `arr`\n",
    "2. Add element at the end of the list `arr`\n",
    "3. remove element \"Car\" from the list"
   ]
  },
  {
   "cell_type": "code",
   "execution_count": 21,
   "metadata": {},
   "outputs": [
    {
     "name": "stdout",
     "output_type": "stream",
     "text": [
      "arr \n",
      " ['Car', 'Fruit', 1]\n",
      "added at the top \n",
      " ['top', 'Car', 'Fruit', 1]\n",
      "added at the end \n",
      " ['top', 'Car', 'Fruit', 1, 'end']\n",
      "Car removed \n",
      " ['top', 'Fruit', 1, 'end']\n"
     ]
    }
   ],
   "source": [
    "# Your code here\n",
    "\n",
    "arr = [\"Car\", \"Fruit\", 1]\n",
    "print('arr \\n',arr)\n",
    "\n",
    "## element at the top of the list\n",
    "\n",
    "arr.insert(0, 'top')\n",
    "print('added at the top \\n', arr)\n",
    "\n",
    "## element at the end of the list\n",
    "\n",
    "arr.append(\"end\")\n",
    "\n",
    "print('added at the end \\n', arr)\n",
    "\n",
    "## remove element \"Car\" from the list\n",
    "\n",
    "arr.remove('Car')\n",
    "\n",
    "print('Car removed \\n', arr)"
   ]
  },
  {
   "cell_type": "markdown",
   "metadata": {},
   "source": [
    "## Exercise 5: slicing\n",
    "\n",
    "```python\n",
    ">>> arr = [0, 1, 2, 3, 4, 5, 6, 7, 8, 9, 10, 11, 12, 13, 14, 15, 16, 17, 18, 19]\n",
    "```\n",
    "1. Print the first 10 elements\n",
    "2. Print the last 10 elements \n",
    "3. Print the elements between indices 3 and 7\n",
    "4. Print the elements at odd positions"
   ]
  },
  {
   "cell_type": "code",
   "execution_count": 45,
   "metadata": {},
   "outputs": [
    {
     "name": "stdout",
     "output_type": "stream",
     "text": [
      "[0, 1, 2, 3, 4, 5, 6, 7, 8, 9]\n",
      "[10, 11, 12, 13, 14, 15, 16, 17, 18, 19]\n",
      "[3, 4, 5, 6]\n",
      "elements at odd positions\n",
      "1\n",
      "3\n",
      "5\n",
      "7\n",
      "9\n",
      "11\n",
      "13\n",
      "15\n",
      "17\n",
      "19\n"
     ]
    }
   ],
   "source": [
    "# Your code here\n",
    "arr = [0, 1, 2, 3, 4, 5, 6, 7, 8, 9, 10, 11, 12, 13, 14, 15, 16, 17, 18, 19]\n",
    "\n",
    "## 1\n",
    "\n",
    "print(arr[:10])\n",
    "\n",
    "## 2\n",
    "\n",
    "print(arr[-10:])\n",
    "\n",
    "## 3\n",
    "\n",
    "print( arr[3:7])\n",
    "\n",
    "## 4\n",
    "\n",
    "indexes = [ i for i in range(20) if i%2== 1]\n",
    "print( 'elements at odd positions')\n",
    "for i in indexes:\n",
    "    print(i)"
   ]
  },
  {
   "cell_type": "markdown",
   "metadata": {},
   "source": [
    "## Exercise 6: List comprehension\n",
    "\n",
    "Use List comprehension to create a list of all numbers between 1 and 50 that are divisible by 3."
   ]
  },
  {
   "cell_type": "code",
   "execution_count": 46,
   "metadata": {},
   "outputs": [
    {
     "name": "stdout",
     "output_type": "stream",
     "text": [
      "[3, 6, 9, 12, 15, 18, 21, 24, 27, 30, 33, 36, 39, 42, 45, 48]\n"
     ]
    }
   ],
   "source": [
    "# Your code here\n",
    "\n",
    "mylist = [i for i in range(1,50) if i%3== 0]\n",
    "print(mylist)"
   ]
  },
  {
   "cell_type": "markdown",
   "metadata": {},
   "source": [
    "## Exercise 7: string\n",
    "\n",
    "Go through the string below and if the length of a word is even print \"even!\"\n",
    "```python\n",
    ">>> st = 'Print every word in this sentence that has an even number of letters'\n",
    "```"
   ]
  },
  {
   "cell_type": "code",
   "execution_count": 47,
   "metadata": {},
   "outputs": [
    {
     "name": "stdout",
     "output_type": "stream",
     "text": [
      "even\n",
      "even\n",
      "even\n",
      "even\n",
      "even\n",
      "even\n",
      "even\n",
      "even\n",
      "even\n"
     ]
    }
   ],
   "source": [
    "# Your code here\n",
    "\n",
    "st = 'Print every word in this sentence that has an even number of letters'\n",
    "word_list = st.split()\n",
    "for wrd in word_list:\n",
    "    if len(wrd)%2==0:\n",
    "        print('even')"
   ]
  },
  {
   "cell_type": "markdown",
   "metadata": {},
   "source": [
    "## Exercise 8: string\n",
    "\n",
    "Write a program that prints the integers from 1 to 100. But for multiples of three print \"Fizz\" instead of the number, and for the multiples of five print \"Buzz\". For numbers which are multiples of both three and five print \"FizzBuzz\"."
   ]
  },
  {
   "cell_type": "code",
   "execution_count": 49,
   "metadata": {},
   "outputs": [
    {
     "name": "stdout",
     "output_type": "stream",
     "text": [
      "1\n",
      "2\n",
      "Fizz\n",
      "3\n",
      "4\n",
      "Buzz\n",
      "Fizz\n",
      "6\n",
      "7\n",
      "8\n",
      "Fizz\n",
      "9\n",
      "Buzz\n",
      "11\n",
      "Fizz\n",
      "12\n",
      "13\n",
      "14\n",
      "FizzBuzz\n",
      "Fizz\n",
      "Buzz\n",
      "16\n",
      "17\n",
      "Fizz\n",
      "18\n",
      "19\n",
      "Buzz\n",
      "Fizz\n",
      "21\n",
      "22\n",
      "23\n",
      "Fizz\n",
      "24\n",
      "Buzz\n",
      "26\n",
      "Fizz\n",
      "27\n",
      "28\n",
      "29\n",
      "FizzBuzz\n",
      "Fizz\n",
      "Buzz\n",
      "31\n",
      "32\n",
      "Fizz\n",
      "33\n",
      "34\n",
      "Buzz\n",
      "Fizz\n",
      "36\n",
      "37\n",
      "38\n",
      "Fizz\n",
      "39\n",
      "Buzz\n",
      "41\n",
      "Fizz\n",
      "42\n",
      "43\n",
      "44\n",
      "FizzBuzz\n",
      "Fizz\n",
      "Buzz\n",
      "46\n",
      "47\n",
      "Fizz\n",
      "48\n",
      "49\n",
      "Buzz\n",
      "Fizz\n",
      "51\n",
      "52\n",
      "53\n",
      "Fizz\n",
      "54\n",
      "Buzz\n",
      "56\n",
      "Fizz\n",
      "57\n",
      "58\n",
      "59\n",
      "FizzBuzz\n",
      "Fizz\n",
      "Buzz\n",
      "61\n",
      "62\n",
      "Fizz\n",
      "63\n",
      "64\n",
      "Buzz\n",
      "Fizz\n",
      "66\n",
      "67\n",
      "68\n",
      "Fizz\n",
      "69\n",
      "Buzz\n",
      "71\n",
      "Fizz\n",
      "72\n",
      "73\n",
      "74\n",
      "FizzBuzz\n",
      "Fizz\n",
      "Buzz\n",
      "76\n",
      "77\n",
      "Fizz\n",
      "78\n",
      "79\n",
      "Buzz\n",
      "Fizz\n",
      "81\n",
      "82\n",
      "83\n",
      "Fizz\n",
      "84\n",
      "Buzz\n",
      "86\n",
      "Fizz\n",
      "87\n",
      "88\n",
      "89\n",
      "FizzBuzz\n",
      "Fizz\n",
      "Buzz\n",
      "91\n",
      "92\n",
      "Fizz\n",
      "93\n",
      "94\n",
      "Buzz\n",
      "Fizz\n",
      "96\n",
      "97\n",
      "98\n",
      "Fizz\n",
      "99\n"
     ]
    }
   ],
   "source": [
    "# Your code here\n",
    "\n",
    "for i in range(1,100):\n",
    "    if i%3==0 and i%5==0:\n",
    "        print('FizzBuzz')\n",
    "    if i%3==0:\n",
    "        print('Fizz')\n",
    "    if i%5==0:\n",
    "        print('Buzz')\n",
    "    else:\n",
    "        print(i)\n"
   ]
  },
  {
   "cell_type": "markdown",
   "metadata": {},
   "source": [
    "## Exercise 9: conditions\n",
    "\n",
    "1. Compute the odd number squares sum of `arr`\n",
    "\n",
    "```python\n",
    ">>> arr = [0, 1, 2, 3, 4, 5, 6, 7, 8, 9, 10, 11, 12, 13, 14, 15, 16, 17, 18, 19]\n",
    "```\n",
    "\n",
    "2. Compute the solution of $ax^2 + bx + c = 0$\n",
    "    - a, b, and c are given by the user"
   ]
  },
  {
   "cell_type": "code",
   "execution_count": 5,
   "metadata": {},
   "outputs": [],
   "source": [
    "# Your code here"
   ]
  },
  {
   "cell_type": "markdown",
   "metadata": {},
   "source": [
    "## Exercise 10: Numpy\n",
    "\n",
    "1. Define 2 matrices using numpy\n",
    "\n",
    "![matrix](../data/matrix.png)\n",
    "\n",
    "2. Compute the multiplication of the 2 matrices\n",
    "\n",
    "3. Print the result"
   ]
  },
  {
   "cell_type": "code",
   "execution_count": 5,
   "metadata": {},
   "outputs": [],
   "source": [
    "# Your code here"
   ]
  },
  {
   "cell_type": "markdown",
   "metadata": {},
   "source": [
    "## Exercise 11: functions\n",
    "\n",
    "1. Write function that compute the max of 2 given numbers\n",
    "2. Call the function with 2 numbers of your choice"
   ]
  },
  {
   "cell_type": "code",
   "execution_count": 14,
   "metadata": {},
   "outputs": [],
   "source": [
    "# Your code here"
   ]
  },
  {
   "cell_type": "markdown",
   "metadata": {},
   "source": [
    "## Exercise 12: Matplotlib\n",
    " \n",
    "1. Write a Python program that will create the plot bellow\n",
    "![plot](../data/matplotlib.png)"
   ]
  },
  {
   "cell_type": "code",
   "execution_count": 14,
   "metadata": {},
   "outputs": [],
   "source": [
    "# Your code here"
   ]
  },
  {
   "cell_type": "markdown",
   "metadata": {},
   "source": [
    "## Exercise 13: pandas\n",
    "\n",
    "1. Use pandas library to read the csv file 'data.csv' (located at data repository)\n",
    "2. Print the first 10 rows for the file\n",
    "3. Print the values of 'diagnosis' column"
   ]
  },
  {
   "cell_type": "code",
   "execution_count": 14,
   "metadata": {},
   "outputs": [],
   "source": [
    "# Your code here"
   ]
  }
 ],
 "metadata": {
  "hide_input": false,
  "kernelspec": {
   "display_name": "Python 3 (ipykernel)",
   "language": "python",
   "name": "python3"
  },
  "language_info": {
   "codemirror_mode": {
    "name": "ipython",
    "version": 3
   },
   "file_extension": ".py",
   "mimetype": "text/x-python",
   "name": "python",
   "nbconvert_exporter": "python",
   "pygments_lexer": "ipython3",
   "version": "3.8.10"
  }
 },
 "nbformat": 4,
 "nbformat_minor": 4
}
